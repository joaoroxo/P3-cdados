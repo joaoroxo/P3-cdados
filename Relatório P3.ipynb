{
 "cells": [
  {
   "cell_type": "markdown",
   "metadata": {},
   "source": [
    "# Projeto 3 - Ciência dos Dados\n",
    "\n",
    "# Ciência dos Dados 2019\n",
    "\n",
    "### Alunos:\n",
    "- Felipe Junqueira\n",
    "- Giovana Campedelli\n",
    "- Gabriela Choichit\n",
    "- João Roxo\n",
    "\n",
    "### Link para base de dados:\n",
    "\n",
    "- https://archive.ics.uci.edu/ml/datasets/Tic-Tac-Toe+Endgame\n"
   ]
  },
  {
   "cell_type": "markdown",
   "metadata": {},
   "source": [
    "A partir da base de dados coletada vamos usar a biblioteca ''scikit-learn'' para assim usufruir da técnica Naive Bases para classificação, no caso do jogo da velha: o resultado do jogo.\n",
    "\n",
    "Feita a primeira análise vamos utilizar de outros algorítimos para classificá-los novamente e assim comparar os resultados obtidos.\n",
    "\n",
    "Finalmente obteremos o resultado previsto e o melhor algoritmo para prever o resultado."
   ]
  },
  {
   "cell_type": "markdown",
   "metadata": {},
   "source": [
    "___"
   ]
  },
  {
   "cell_type": "markdown",
   "metadata": {},
   "source": [
    "    Inicialmete, foi feito uma análise utilizando a técnica de classificação Naive-Bayes. Para tal, foi preciso treinar a base de dados e avaliar se a classificação feita estava de acordo com a original. \n",
    "    A base de dados obtida estava dividida em colunas com as posições do tabuleiro, e cada linha representa a jogada completa, ou seja, tinham strings (X, O, B), o que significava a posição de jogada de cada um dos oponentes e o espaço em branco. A última coluna da base era a variável de saída da análise, sendo positiva, quando o jogador X ganhava, ou negativa, quando o jogador X perdia ou quando dava empate.\n",
    "    Como as informações nas linhas estavam no formato de strings, foi necessário transformá-las em números binários para ser possível fazer a análise. Então, por exemplo, na coluna Top Left onde tinha um X, virou três colunas de Top Left, a primeira com 0(Que representa o B), a segunda com 0 (Que representa o O) e a última com 1 (vez que representava o X). Para realizar essa operação foi usado o dummify, assim a base passou a ter 27 colunas. A partir dessa nova tabela foi feito o naive bayes para prever a probabilidade do resultado ser positivo dado as posições dos jogadores.\n",
    "    O primeiro teste foi feito com uma base de treinamento que consistia em 75% dos dados e uma base de teste de 15%, com essa proporção tivémos uma acurácia de 75%\n",
    "    O resultado é bom, porém foram feitas iterações visando aumentar a acurácia, as primeiras constituiram-se de aumentar a base de treinamento para observar se o resultado alterava proporcionalmente, inicialmente mudamos para 85% de treino, o que manteve a acurácia em 75%, depois aumentamos para 90%, o que fez com que a acurácia caísse para 70%, e por fim 95% de treinamento, que teve uma acurácia de 75% novamente."
   ]
  },
  {
   "cell_type": "code",
   "execution_count": null,
   "metadata": {},
   "outputs": [],
   "source": []
  }
 ],
 "metadata": {
  "kernelspec": {
   "display_name": "Python 3",
   "language": "python",
   "name": "python3"
  },
  "language_info": {
   "codemirror_mode": {
    "name": "ipython",
    "version": 3
   },
   "file_extension": ".py",
   "mimetype": "text/x-python",
   "name": "python",
   "nbconvert_exporter": "python",
   "pygments_lexer": "ipython3",
   "version": "3.7.1"
  }
 },
 "nbformat": 4,
 "nbformat_minor": 2
}
